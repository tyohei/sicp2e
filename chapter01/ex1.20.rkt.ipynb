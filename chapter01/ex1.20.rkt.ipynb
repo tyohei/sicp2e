{
 "cells": [
  {
   "cell_type": "markdown",
   "metadata": {},
   "source": [
    "# Execercise 1.20\n",
    "\n"
   ]
  },
  {
   "cell_type": "code",
   "execution_count": 11,
   "metadata": {},
   "outputs": [
    {
     "name": "stdout",
     "output_type": "stream",
     "text": [
      "\"CALLED\"\n",
      "\"CALLED\"\n",
      "\"CALLED\"\n",
      "\"CALLED\"\n",
      "\"CALLED\"\n"
     ]
    },
    {
     "data": {
      "text/plain": [
       "2"
      ]
     },
     "execution_count": 11,
     "metadata": {},
     "output_type": "execute_result"
    }
   ],
   "source": [
    "(define (gcd a b)\n",
    "  (print \"CALLED\")\n",
    "  (if (= b 0)\n",
    "      a\n",
    "      (gcd b (remainder a b))))\n",
    "\n",
    "(gcd 206 40)"
   ]
  },
  {
   "cell_type": "code",
   "execution_count": 17,
   "metadata": {},
   "outputs": [
    {
     "name": "stdout",
     "output_type": "stream",
     "text": [
      "\"CALLED\"\n",
      "\"CALLED\"\n",
      "\"CALLED\"\n",
      "\"CALLED\"\n",
      "\"CALLED\"\n",
      "\"====\"\n",
      "\"CALLED\"\n",
      "\"CALLED\"\n",
      "\"CALLED\"\n",
      "\"CALLED\"\n",
      "\"====\"\n",
      "\"CALLED\"\n",
      "\"CALLED\"\n",
      "\"CALLED\"\n",
      "\"====\"\n",
      "\"CALLED\"\n",
      "\"CALLED\"\n",
      "\"====\"\n",
      "\"CALLED\"\n"
     ]
    },
    {
     "data": {
      "text/plain": [
       "2"
      ]
     },
     "execution_count": 17,
     "metadata": {},
     "output_type": "execute_result"
    }
   ],
   "source": [
    ";; Normal-order\n",
    ";; Number of calles are infinity?\n",
    ";; ==== WRONG ANSER!!! ====\n",
    ";; NO!!!\n",
    ";; The expression inside the `if` condition will be evaluated every time -> w/o this evalution the procedure cannnot determine the next step\n",
    ";; So the answer will be 18\n",
    "\n",
    "(gcd\n",
    " 206\n",
    " 40)\n",
    "\n",
    "(print \"====\")\n",
    "\n",
    "(gcd\n",
    " 40\n",
    " (remainder 206 40))\n",
    "\n",
    "(print \"====\")\n",
    "\n",
    "(gcd\n",
    " (remainder 206 40)\n",
    " (remainder 40 (remainder 206 40)))\n",
    "\n",
    "(print \"====\")\n",
    "\n",
    "(gcd\n",
    " (remainder 40 (remainder 206 40))\n",
    " (remainder\n",
    "  (remainder 206 40)\n",
    "  (remainder 40 (remainder 206 40))))\n",
    "\n",
    "(print \"====\")\n",
    "\n",
    "(gcd\n",
    " (remainder\n",
    "  (remainder 206 40)\n",
    "  (remainder 40 (remainder 206 40)))\n",
    " (remainder\n",
    "  (remainder 40 (remainder 206 40))\n",
    "  (remainder\n",
    "  (remainder 206 40)\n",
    "  (remainder 40 (remainder 206 40)))))"
   ]
  },
  {
   "cell_type": "code",
   "execution_count": 19,
   "metadata": {},
   "outputs": [
    {
     "name": "stdout",
     "output_type": "stream",
     "text": [
      "\"CALLED\"\n",
      "\"CALLED\"\n",
      "\"CALLED\"\n",
      "\"CALLED\"\n",
      "\"CALLED\"\n",
      "\"====\"\n",
      "\"CALLED\"\n",
      "\"CALLED\"\n",
      "\"CALLED\"\n",
      "\"CALLED\"\n",
      "\"CALLED\"\n",
      "\"CALLED\"\n",
      "\"CALLED\"\n",
      "\"CALLED\"\n",
      "\"====\"\n",
      "\"CALLED\"\n",
      "\"CALLED\"\n",
      "\"CALLED\"\n",
      "\"CALLED\"\n",
      "\"CALLED\"\n",
      "\"CALLED\"\n",
      "\"====\"\n",
      "\"CALLED\"\n",
      "\"CALLED\"\n",
      "\"CALLED\"\n",
      "\"CALLED\"\n",
      "\"====\"\n",
      "\"CALLED\"\n",
      "\"CALLED\"\n"
     ]
    },
    {
     "data": {
      "text/plain": [
       "2"
      ]
     },
     "execution_count": 19,
     "metadata": {},
     "output_type": "execute_result"
    }
   ],
   "source": [
    ";; Adaptive\n",
    ";; 4 times\n",
    "\n",
    "(gcd 206 40)\n",
    "\n",
    "(print \"====\")\n",
    "\n",
    "(gcd 40 (remainder 206 40))\n",
    "(gcd 40 6)\n",
    "\n",
    "(print \"====\")\n",
    "\n",
    "(gcd 6 (remainder 40 6))\n",
    "(gcd 6 4)\n",
    "\n",
    "(print \"====\")\n",
    "\n",
    "(gcd 4 (remainder 6 4))\n",
    "(gcd 4 2)\n",
    "\n",
    "(print \"====\")\n",
    "\n",
    "(gcd 2 (remainder 4 2))\n",
    "(gcd 2 0)"
   ]
  },
  {
   "cell_type": "code",
   "execution_count": null,
   "metadata": {},
   "outputs": [],
   "source": []
  }
 ],
 "metadata": {
  "kernelspec": {
   "display_name": "Calysto Scheme 3",
   "language": "scheme",
   "name": "calysto_scheme"
  },
  "language_info": {
   "codemirror_mode": {
    "name": "scheme"
   },
   "mimetype": "text/x-scheme",
   "name": "scheme",
   "pygments_lexer": "scheme"
  }
 },
 "nbformat": 4,
 "nbformat_minor": 4
}
