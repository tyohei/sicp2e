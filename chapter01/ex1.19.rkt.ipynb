{
 "cells": [
  {
   "cell_type": "markdown",
   "metadata": {},
   "source": [
    "# Exercise 1.19"
   ]
  },
  {
   "cell_type": "code",
   "execution_count": 1,
   "metadata": {},
   "outputs": [],
   "source": [
    "(define (fib n)\n",
    "  (fib-iter 1 0 0 1 n))"
   ]
  },
  {
   "cell_type": "code",
   "execution_count": 2,
   "metadata": {},
   "outputs": [],
   "source": [
    "(define (fib-iter a b p q count)\n",
    "  (cond ((= count 0) b)\n",
    "        ((even? count)\n",
    "         (fib-iter a\n",
    "                   b\n",
    "                   (+ (* p p) (* q q))\n",
    "                   (+ (* 2 p q) (* q q))\n",
    "                   (/ count 2)))\n",
    "        (else (fib-iter (+ (* b q) (* a q) (* a p))\n",
    "                        (+ (* b p) (* a q))\n",
    "                        p\n",
    "                        q\n",
    "                        (- count 1 )))))"
   ]
  },
  {
   "cell_type": "code",
   "execution_count": 3,
   "metadata": {},
   "outputs": [
    {
     "data": {
      "text/plain": [
       "2"
      ]
     },
     "execution_count": 3,
     "metadata": {},
     "output_type": "execute_result"
    }
   ],
   "source": [
    "(fib 1)\n",
    "(fib 2)\n",
    "(fib 3)"
   ]
  }
 ],
 "metadata": {
  "kernelspec": {
   "display_name": "Calysto Scheme 3",
   "language": "scheme",
   "name": "calysto_scheme"
  },
  "language_info": {
   "codemirror_mode": {
    "name": "scheme"
   },
   "mimetype": "text/x-scheme",
   "name": "scheme",
   "pygments_lexer": "scheme"
  }
 },
 "nbformat": 4,
 "nbformat_minor": 4
}
