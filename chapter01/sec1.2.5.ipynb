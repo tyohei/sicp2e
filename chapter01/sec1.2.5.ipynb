{
 "cells": [
  {
   "cell_type": "markdown",
   "metadata": {},
   "source": [
    "# Section 1.2.5\n",
    "\n",
    "# GCD (Greatest Common Divisor)\n",
    "\n",
    "Let $a \\ge b$"
   ]
  },
  {
   "cell_type": "code",
   "execution_count": 2,
   "metadata": {},
   "outputs": [],
   "source": [
    "(define (gcd a b)\n",
    "  (if (= b 0)\n",
    "      a\n",
    "      (gcd b (remainder a b))))"
   ]
  },
  {
   "cell_type": "markdown",
   "metadata": {},
   "source": [
    "## Lame's Theorem\n",
    "\n",
    "> If Euclid's Algorithms requires $k$ steps to compute the GCD of some pair, then the smaller number in the pair must be greater than or equal to the $k$-th Fibonacci number.\n",
    "\n",
    "I.E., Let $n$ be the smaller number of two inputs, and let $k$ be the number of steps.\n",
    "\n",
    "$ n \\ge \\textrm{Fib}(k) \\approx \\phi^k / \\sqrt{5}$\n",
    "\n",
    "Therefore, $k \\propto \\log_{\\phi}{n}$, and $k = O(\\log{n})$"
   ]
  },
  {
   "cell_type": "markdown",
   "metadata": {},
   "source": []
  }
 ],
 "metadata": {
  "kernelspec": {
   "display_name": "Calysto Scheme 3",
   "language": "scheme",
   "name": "calysto_scheme"
  },
  "language_info": {
   "codemirror_mode": {
    "name": "scheme"
   },
   "mimetype": "text/x-scheme",
   "name": "scheme",
   "pygments_lexer": "scheme"
  }
 },
 "nbformat": 4,
 "nbformat_minor": 4
}
