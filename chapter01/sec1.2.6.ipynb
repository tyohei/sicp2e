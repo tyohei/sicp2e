{
 "cells": [
  {
   "cell_type": "markdown",
   "metadata": {},
   "source": [
    "# Section 1.2.6 Example: Testing for Primality"
   ]
  },
  {
   "cell_type": "code",
   "execution_count": 2,
   "metadata": {},
   "outputs": [
    {
     "name": "stdout",
     "output_type": "stream",
     "text": [
      "\"false\"\n"
     ]
    }
   ],
   "source": [
    "(if (> 1 2)\n",
    "    (print \"true\")\n",
    "    (print \"false\"))"
   ]
  },
  {
   "cell_type": "code",
   "execution_count": 4,
   "metadata": {},
   "outputs": [],
   "source": [
    "(define (smallest-divisor n)\n",
    "  (find-divisor n 2))\n",
    "\n",
    "(define (find-divisor n test-divisor)\n",
    "  (cond ((> (square test-divisor) n) n)\n",
    "        ((divides? test-divisor n) test-divisor)\n",
    "        (else (find-divisor n (+ test-divisor 1)))))\n",
    "\n",
    "(define (divides? a b)\n",
    "  (= (remainder b a) 0))\n",
    "\n",
    "(define (square n)\n",
    "  (* n n))"
   ]
  },
  {
   "cell_type": "code",
   "execution_count": 8,
   "metadata": {},
   "outputs": [
    {
     "name": "stdout",
     "output_type": "stream",
     "text": [
      "#f\n",
      "#t\n",
      "#t\n"
     ]
    }
   ],
   "source": [
    "(define (prime? n)\n",
    "  (= n (smallest-divisor n)))\n",
    "\n",
    "(print (prime? 4))\n",
    "(print (prime? 5))\n",
    "(print (prime? 13))"
   ]
  },
  {
   "cell_type": "markdown",
   "metadata": {},
   "source": [
    "The order of this procedure is $\\Theta(\\sqrt{n})$"
   ]
  },
  {
   "cell_type": "markdown",
   "metadata": {},
   "source": [
    "## The Fermat test\n",
    "\n",
    "The $\\Theta(\\log{n})$ primality test is based on a result from number theory known as ***Fermat's Little Theorem***.\n",
    "\n",
    "### Fermat's Little Theorem - フェルマーの小定理:\n",
    "\n",
    "If $n$ is prime and $a$ is ***any positive interger*** less than $n$, the $a$ raised tot he $n$-th power is congruent to $a$ modulo $n$.\n",
    "\n",
    "I.e., $a \\equiv a^n \\pmod{n}$\n",
    "\n",
    "つまり、$a \\equiv a^n$ が整理しなかったら、即それは素数でないと判断できる。\n",
    "一方、$a \\equiv a^n$ だった場合は、複合数の可能性はあるので、すべての数を調べる必要がある"
   ]
  },
  {
   "cell_type": "code",
   "execution_count": 10,
   "metadata": {},
   "outputs": [],
   "source": [
    ";; base = a\n",
    ";; exp = 1,...,n\n",
    ";; m = n\n",
    "(define (expmod base exp m)\n",
    "  (cond ((= exp 0) 1)\n",
    "        ((even? exp)\n",
    "         (remainder (square (expmod base (/ exp 2) m))\n",
    "         m))\n",
    "        (else\n",
    "         (remainder (* base (expmod base (- exp 1) m))\n",
    "                    m))))"
   ]
  },
  {
   "cell_type": "code",
   "execution_count": null,
   "metadata": {},
   "outputs": [],
   "source": []
  }
 ],
 "metadata": {
  "kernelspec": {
   "display_name": "Calysto Scheme 3",
   "language": "scheme",
   "name": "calysto_scheme"
  },
  "language_info": {
   "codemirror_mode": {
    "name": "scheme"
   },
   "mimetype": "text/x-scheme",
   "name": "scheme",
   "pygments_lexer": "scheme"
  }
 },
 "nbformat": 4,
 "nbformat_minor": 4
}
