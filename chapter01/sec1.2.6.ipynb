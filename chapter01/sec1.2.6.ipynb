{
 "cells": [
  {
   "cell_type": "markdown",
   "metadata": {},
   "source": [
    "# Section 1.2.6 Example: Testing for Primality"
   ]
  },
  {
   "cell_type": "code",
   "execution_count": 1,
   "metadata": {},
   "outputs": [
    {
     "name": "stdout",
     "output_type": "stream",
     "text": [
      "\"false\"\n"
     ]
    }
   ],
   "source": [
    "(if (> 1 2)\n",
    "    (print \"true\")\n",
    "    (print \"false\"))"
   ]
  },
  {
   "cell_type": "code",
   "execution_count": 2,
   "metadata": {},
   "outputs": [],
   "source": [
    "(define (smallest-divisor n)\n",
    "  (find-divisor n 2))\n",
    "\n",
    "(define (find-divisor n test-divisor)\n",
    "  (cond ((> (square test-divisor) n) n)\n",
    "        ((divides? test-divisor n) test-divisor)\n",
    "        (else (find-divisor n (+ test-divisor 1)))))\n",
    "\n",
    "(define (divides? a b)\n",
    "  (= (remainder b a) 0))\n",
    "\n",
    "(define (square n)\n",
    "  (* n n))"
   ]
  },
  {
   "cell_type": "code",
   "execution_count": 3,
   "metadata": {},
   "outputs": [
    {
     "name": "stdout",
     "output_type": "stream",
     "text": [
      "#f\n",
      "#t\n",
      "#t\n"
     ]
    }
   ],
   "source": [
    "(define (prime? n)\n",
    "  (= n (smallest-divisor n)))\n",
    "\n",
    "(print (prime? 4))\n",
    "(print (prime? 5))\n",
    "(print (prime? 13))"
   ]
  },
  {
   "cell_type": "markdown",
   "metadata": {},
   "source": [
    "The order of this procedure is $\\Theta(\\sqrt{n})$"
   ]
  },
  {
   "cell_type": "markdown",
   "metadata": {},
   "source": [
    "## The Fermat test\n",
    "\n",
    "The $\\Theta(\\log{n})$ primality test is based on a result from number theory known as ***Fermat's Little Theorem***.\n",
    "\n",
    "### Fermat's Little Theorem - フェルマーの小定理:\n",
    "\n",
    "If $n$ is prime and $a$ is ***any positive interger*** less than $n$, the $a$ raised to the $n$-th power is congruent to $a$ modulo $n$.\n",
    "\n",
    "I.e., $a \\equiv a^n \\pmod{n}$\n",
    "\n",
    "- $a \\equiv a^n$ でなかった場合は、即それは素数でないと判断できる。\n",
    "- $a \\equiv a^n$ だった場合は、素数の可能性があるので、ことなる $a$ でまた探索をする"
   ]
  },
  {
   "cell_type": "code",
   "execution_count": 4,
   "metadata": {},
   "outputs": [],
   "source": [
    ";; base = a\n",
    ";; exp = 1,...,n\n",
    ";; m = n\n",
    "(define (expmod base exp m)\n",
    "  (cond ((= exp 0) 1)\n",
    "        ((even? exp)\n",
    "         (remainder (square (expmod base (/ exp 2) m))\n",
    "         m))\n",
    "        (else\n",
    "         (remainder (* base (expmod base (- exp 1) m))\n",
    "                    m))))"
   ]
  },
  {
   "cell_type": "markdown",
   "metadata": {},
   "source": [
    "$\n",
    "\\begin{align}\n",
    "a^n\\bmod{n} = \\left\\{\n",
    "\\begin{aligned}\n",
    "\\left[ (a^{n/2} \\bmod{n})^2 \\right] \\bmod{n} &\\quad \\textrm{if $n$ is even} \\\\\n",
    "\\left[ (a^{n-1} \\bmod{n}) \\cdot a \\right] \\bmod{n} &\\quad \\textrm{overwise}\n",
    "\\end{aligned}\n",
    "\\right.\n",
    "\\end{align}\n",
    "$"
   ]
  },
  {
   "cell_type": "code",
   "execution_count": 5,
   "metadata": {},
   "outputs": [],
   "source": [
    "(define (fermat-test n)\n",
    "  (define (try-it a)\n",
    "    (= (expmod a n n) a))\n",
    "  (try-it (+ 1 (random (- n 1)))))"
   ]
  },
  {
   "cell_type": "code",
   "execution_count": 15,
   "metadata": {},
   "outputs": [],
   "source": [
    "(define (fast-prime? n times)\n",
    "  (cond \n",
    "   ((= times 0) #t)\n",
    "   ((fermat-test n) (fast-prime? n (- times 1)))\n",
    "   (else #f)\n",
    "   )\n",
    "  )"
   ]
  },
  {
   "cell_type": "code",
   "execution_count": 19,
   "metadata": {},
   "outputs": [
    {
     "name": "stdout",
     "output_type": "stream",
     "text": [
      "#t\n",
      "#t\n",
      "#t\n",
      "#f\n"
     ]
    }
   ],
   "source": [
    "(print (fast-prime? 2 10))\n",
    "(print (fast-prime? 11 10))\n",
    "(print (fast-prime? 443 10))\n",
    "(print (fast-prime? 93 10))"
   ]
  },
  {
   "cell_type": "code",
   "execution_count": null,
   "metadata": {},
   "outputs": [],
   "source": []
  }
 ],
 "metadata": {
  "kernelspec": {
   "display_name": "Calysto Scheme 3",
   "language": "scheme",
   "name": "calysto_scheme"
  },
  "language_info": {
   "codemirror_mode": {
    "name": "scheme"
   },
   "mimetype": "text/x-scheme",
   "name": "scheme",
   "pygments_lexer": "scheme"
  }
 },
 "nbformat": 4,
 "nbformat_minor": 4
}
