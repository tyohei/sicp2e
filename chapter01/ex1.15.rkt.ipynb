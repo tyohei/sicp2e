{
 "cells": [
  {
   "cell_type": "markdown",
   "metadata": {},
   "source": [
    "# Excercise 1.15"
   ]
  },
  {
   "cell_type": "code",
   "execution_count": 1,
   "metadata": {},
   "outputs": [],
   "source": [
    "(define (cube x) (* x x x))"
   ]
  },
  {
   "cell_type": "code",
   "execution_count": 4,
   "metadata": {},
   "outputs": [],
   "source": [
    "(define (p x)\n",
    "  (print \"p called\")\n",
    "  (- (* 3 x) (* 4 (cube x))))"
   ]
  },
  {
   "cell_type": "code",
   "execution_count": 3,
   "metadata": {},
   "outputs": [],
   "source": [
    "(define (sine angle)\n",
    "  (if (not (> (abs angle) 0.1))\n",
    "      angle\n",
    "      (p (sine (/ angle 3.0)))))"
   ]
  },
  {
   "cell_type": "markdown",
   "metadata": {},
   "source": [
    "## Q. a\n",
    "\n",
    "Answer: 5\n",
    "\n",
    "Reason: Following code will print `5`\n",
    "\n",
    "```python\n",
    "import math\n",
    "x = 12.15\n",
    "i = 0\n",
    "while x > 0.1:\n",
    "    x /= 3\n",
    "    i += 1\n",
    "print(i)\n",
    "```"
   ]
  },
  {
   "cell_type": "code",
   "execution_count": 5,
   "metadata": {},
   "outputs": [
    {
     "name": "stdout",
     "output_type": "stream",
     "text": [
      "\"p called\"\n",
      "\"p called\"\n",
      "\"p called\"\n",
      "\"p called\"\n",
      "\"p called\"\n"
     ]
    },
    {
     "data": {
      "text/plain": [
       "-0.39980345741334"
      ]
     },
     "execution_count": 5,
     "metadata": {},
     "output_type": "execute_result"
    }
   ],
   "source": [
    "(sine 12.15)"
   ]
  },
  {
   "cell_type": "markdown",
   "metadata": {},
   "source": [
    "## Q. b\n",
    "\n",
    "The above code can be re-written as follow\n",
    "\n",
    "```python\n",
    "import math\n",
    "x = 12.15\n",
    "i = 0\n",
    "while x / 0.1 > 1:\n",
    "    x /= 3\n",
    "    i += 1\n",
    "print(i)\n",
    "```\n",
    "\n",
    "To obtain the value $y$ that satisfies $x / 0.1 / 3^y = 1$, will simple compute $log_3(x/0.1)$.\n",
    "\n",
    "Order of groth in space and number of steps is $O(\\lceil log_3(x / 0.1) \\rceil)$."
   ]
  },
  {
   "cell_type": "code",
   "execution_count": null,
   "metadata": {},
   "outputs": [],
   "source": []
  }
 ],
 "metadata": {
  "kernelspec": {
   "display_name": "Calysto Scheme 3",
   "language": "scheme",
   "name": "calysto_scheme"
  },
  "language_info": {
   "codemirror_mode": {
    "name": "scheme"
   },
   "mimetype": "text/x-scheme",
   "name": "scheme",
   "pygments_lexer": "scheme"
  }
 },
 "nbformat": 4,
 "nbformat_minor": 4
}
